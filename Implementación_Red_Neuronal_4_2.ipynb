{
  "cells": [
    {
      "cell_type": "markdown",
      "metadata": {
        "id": "view-in-github",
        "colab_type": "text"
      },
      "source": [
        "<a href=\"https://colab.research.google.com/github/TheAnonymousDarck/practica_4_2_Imp_RN/blob/main/Implementaci%C3%B3n_Red_Neuronal_4_2.ipynb\" target=\"_parent\"><img src=\"https://colab.research.google.com/assets/colab-badge.svg\" alt=\"Open In Colab\"/></a>"
      ]
    },
    {
      "cell_type": "code",
      "execution_count": 1,
      "metadata": {
        "id": "pkuuIwCdso7z"
      },
      "outputs": [],
      "source": [
        "import numpy as np\n",
        "import matplotlib.pyplot as plt\n",
        "import pandas as pd"
      ]
    },
    {
      "cell_type": "code",
      "execution_count": 3,
      "metadata": {
        "id": "kyhcsdjFso72",
        "outputId": "42b63932-9b2b-4296-8565-cf37c5535e22",
        "colab": {
          "base_uri": "https://localhost:8080/",
          "height": 206
        }
      },
      "outputs": [
        {
          "output_type": "execute_result",
          "data": {
            "text/plain": [
              "   RowNumber  CustomerId   Surname  CreditScore Geography  Gender  Age  \\\n",
              "0          1    15634602  Hargrave          619    France  Female   42   \n",
              "1          2    15647311      Hill          608     Spain  Female   41   \n",
              "2          3    15619304      Onio          502    France  Female   42   \n",
              "3          4    15701354      Boni          699    France  Female   39   \n",
              "4          5    15737888  Mitchell          850     Spain  Female   43   \n",
              "\n",
              "   Tenure    Balance  NumOfProducts  HasCrCard  IsActiveMember  \\\n",
              "0       2       0.00              1          1               1   \n",
              "1       1   83807.86              1          0               1   \n",
              "2       8  159660.80              3          1               0   \n",
              "3       1       0.00              2          0               0   \n",
              "4       2  125510.82              1          1               1   \n",
              "\n",
              "   EstimatedSalary  Exited  \n",
              "0        101348.88       1  \n",
              "1        112542.58       0  \n",
              "2        113931.57       1  \n",
              "3         93826.63       0  \n",
              "4         79084.10       0  "
            ],
            "text/html": [
              "\n",
              "  <div id=\"df-a956cabb-8a34-469e-bd94-828a8cc408ae\">\n",
              "    <div class=\"colab-df-container\">\n",
              "      <div>\n",
              "<style scoped>\n",
              "    .dataframe tbody tr th:only-of-type {\n",
              "        vertical-align: middle;\n",
              "    }\n",
              "\n",
              "    .dataframe tbody tr th {\n",
              "        vertical-align: top;\n",
              "    }\n",
              "\n",
              "    .dataframe thead th {\n",
              "        text-align: right;\n",
              "    }\n",
              "</style>\n",
              "<table border=\"1\" class=\"dataframe\">\n",
              "  <thead>\n",
              "    <tr style=\"text-align: right;\">\n",
              "      <th></th>\n",
              "      <th>RowNumber</th>\n",
              "      <th>CustomerId</th>\n",
              "      <th>Surname</th>\n",
              "      <th>CreditScore</th>\n",
              "      <th>Geography</th>\n",
              "      <th>Gender</th>\n",
              "      <th>Age</th>\n",
              "      <th>Tenure</th>\n",
              "      <th>Balance</th>\n",
              "      <th>NumOfProducts</th>\n",
              "      <th>HasCrCard</th>\n",
              "      <th>IsActiveMember</th>\n",
              "      <th>EstimatedSalary</th>\n",
              "      <th>Exited</th>\n",
              "    </tr>\n",
              "  </thead>\n",
              "  <tbody>\n",
              "    <tr>\n",
              "      <th>0</th>\n",
              "      <td>1</td>\n",
              "      <td>15634602</td>\n",
              "      <td>Hargrave</td>\n",
              "      <td>619</td>\n",
              "      <td>France</td>\n",
              "      <td>Female</td>\n",
              "      <td>42</td>\n",
              "      <td>2</td>\n",
              "      <td>0.00</td>\n",
              "      <td>1</td>\n",
              "      <td>1</td>\n",
              "      <td>1</td>\n",
              "      <td>101348.88</td>\n",
              "      <td>1</td>\n",
              "    </tr>\n",
              "    <tr>\n",
              "      <th>1</th>\n",
              "      <td>2</td>\n",
              "      <td>15647311</td>\n",
              "      <td>Hill</td>\n",
              "      <td>608</td>\n",
              "      <td>Spain</td>\n",
              "      <td>Female</td>\n",
              "      <td>41</td>\n",
              "      <td>1</td>\n",
              "      <td>83807.86</td>\n",
              "      <td>1</td>\n",
              "      <td>0</td>\n",
              "      <td>1</td>\n",
              "      <td>112542.58</td>\n",
              "      <td>0</td>\n",
              "    </tr>\n",
              "    <tr>\n",
              "      <th>2</th>\n",
              "      <td>3</td>\n",
              "      <td>15619304</td>\n",
              "      <td>Onio</td>\n",
              "      <td>502</td>\n",
              "      <td>France</td>\n",
              "      <td>Female</td>\n",
              "      <td>42</td>\n",
              "      <td>8</td>\n",
              "      <td>159660.80</td>\n",
              "      <td>3</td>\n",
              "      <td>1</td>\n",
              "      <td>0</td>\n",
              "      <td>113931.57</td>\n",
              "      <td>1</td>\n",
              "    </tr>\n",
              "    <tr>\n",
              "      <th>3</th>\n",
              "      <td>4</td>\n",
              "      <td>15701354</td>\n",
              "      <td>Boni</td>\n",
              "      <td>699</td>\n",
              "      <td>France</td>\n",
              "      <td>Female</td>\n",
              "      <td>39</td>\n",
              "      <td>1</td>\n",
              "      <td>0.00</td>\n",
              "      <td>2</td>\n",
              "      <td>0</td>\n",
              "      <td>0</td>\n",
              "      <td>93826.63</td>\n",
              "      <td>0</td>\n",
              "    </tr>\n",
              "    <tr>\n",
              "      <th>4</th>\n",
              "      <td>5</td>\n",
              "      <td>15737888</td>\n",
              "      <td>Mitchell</td>\n",
              "      <td>850</td>\n",
              "      <td>Spain</td>\n",
              "      <td>Female</td>\n",
              "      <td>43</td>\n",
              "      <td>2</td>\n",
              "      <td>125510.82</td>\n",
              "      <td>1</td>\n",
              "      <td>1</td>\n",
              "      <td>1</td>\n",
              "      <td>79084.10</td>\n",
              "      <td>0</td>\n",
              "    </tr>\n",
              "  </tbody>\n",
              "</table>\n",
              "</div>\n",
              "      <button class=\"colab-df-convert\" onclick=\"convertToInteractive('df-a956cabb-8a34-469e-bd94-828a8cc408ae')\"\n",
              "              title=\"Convert this dataframe to an interactive table.\"\n",
              "              style=\"display:none;\">\n",
              "        \n",
              "  <svg xmlns=\"http://www.w3.org/2000/svg\" height=\"24px\"viewBox=\"0 0 24 24\"\n",
              "       width=\"24px\">\n",
              "    <path d=\"M0 0h24v24H0V0z\" fill=\"none\"/>\n",
              "    <path d=\"M18.56 5.44l.94 2.06.94-2.06 2.06-.94-2.06-.94-.94-2.06-.94 2.06-2.06.94zm-11 1L8.5 8.5l.94-2.06 2.06-.94-2.06-.94L8.5 2.5l-.94 2.06-2.06.94zm10 10l.94 2.06.94-2.06 2.06-.94-2.06-.94-.94-2.06-.94 2.06-2.06.94z\"/><path d=\"M17.41 7.96l-1.37-1.37c-.4-.4-.92-.59-1.43-.59-.52 0-1.04.2-1.43.59L10.3 9.45l-7.72 7.72c-.78.78-.78 2.05 0 2.83L4 21.41c.39.39.9.59 1.41.59.51 0 1.02-.2 1.41-.59l7.78-7.78 2.81-2.81c.8-.78.8-2.07 0-2.86zM5.41 20L4 18.59l7.72-7.72 1.47 1.35L5.41 20z\"/>\n",
              "  </svg>\n",
              "      </button>\n",
              "      \n",
              "  <style>\n",
              "    .colab-df-container {\n",
              "      display:flex;\n",
              "      flex-wrap:wrap;\n",
              "      gap: 12px;\n",
              "    }\n",
              "\n",
              "    .colab-df-convert {\n",
              "      background-color: #E8F0FE;\n",
              "      border: none;\n",
              "      border-radius: 50%;\n",
              "      cursor: pointer;\n",
              "      display: none;\n",
              "      fill: #1967D2;\n",
              "      height: 32px;\n",
              "      padding: 0 0 0 0;\n",
              "      width: 32px;\n",
              "    }\n",
              "\n",
              "    .colab-df-convert:hover {\n",
              "      background-color: #E2EBFA;\n",
              "      box-shadow: 0px 1px 2px rgba(60, 64, 67, 0.3), 0px 1px 3px 1px rgba(60, 64, 67, 0.15);\n",
              "      fill: #174EA6;\n",
              "    }\n",
              "\n",
              "    [theme=dark] .colab-df-convert {\n",
              "      background-color: #3B4455;\n",
              "      fill: #D2E3FC;\n",
              "    }\n",
              "\n",
              "    [theme=dark] .colab-df-convert:hover {\n",
              "      background-color: #434B5C;\n",
              "      box-shadow: 0px 1px 3px 1px rgba(0, 0, 0, 0.15);\n",
              "      filter: drop-shadow(0px 1px 2px rgba(0, 0, 0, 0.3));\n",
              "      fill: #FFFFFF;\n",
              "    }\n",
              "  </style>\n",
              "\n",
              "      <script>\n",
              "        const buttonEl =\n",
              "          document.querySelector('#df-a956cabb-8a34-469e-bd94-828a8cc408ae button.colab-df-convert');\n",
              "        buttonEl.style.display =\n",
              "          google.colab.kernel.accessAllowed ? 'block' : 'none';\n",
              "\n",
              "        async function convertToInteractive(key) {\n",
              "          const element = document.querySelector('#df-a956cabb-8a34-469e-bd94-828a8cc408ae');\n",
              "          const dataTable =\n",
              "            await google.colab.kernel.invokeFunction('convertToInteractive',\n",
              "                                                     [key], {});\n",
              "          if (!dataTable) return;\n",
              "\n",
              "          const docLinkHtml = 'Like what you see? Visit the ' +\n",
              "            '<a target=\"_blank\" href=https://colab.research.google.com/notebooks/data_table.ipynb>data table notebook</a>'\n",
              "            + ' to learn more about interactive tables.';\n",
              "          element.innerHTML = '';\n",
              "          dataTable['output_type'] = 'display_data';\n",
              "          await google.colab.output.renderOutput(dataTable, element);\n",
              "          const docLink = document.createElement('div');\n",
              "          docLink.innerHTML = docLinkHtml;\n",
              "          element.appendChild(docLink);\n",
              "        }\n",
              "      </script>\n",
              "    </div>\n",
              "  </div>\n",
              "  "
            ]
          },
          "metadata": {},
          "execution_count": 3
        }
      ],
      "source": [
        "dataset = pd.read_csv('Churn_Modelling.csv')\n",
        "dataset.head()"
      ]
    },
    {
      "cell_type": "code",
      "execution_count": 4,
      "metadata": {
        "id": "PNLvnarcso73",
        "outputId": "cf1d4877-0480-4deb-88a6-fa7e7ac7f8b3",
        "colab": {
          "base_uri": "https://localhost:8080/"
        }
      },
      "outputs": [
        {
          "output_type": "execute_result",
          "data": {
            "text/plain": [
              "array([[619, 'France', 'Female', ..., 1, 1, 101348.88],\n",
              "       [608, 'Spain', 'Female', ..., 0, 1, 112542.58],\n",
              "       [502, 'France', 'Female', ..., 1, 0, 113931.57],\n",
              "       ...,\n",
              "       [709, 'France', 'Female', ..., 0, 1, 42085.58],\n",
              "       [772, 'Germany', 'Male', ..., 1, 0, 92888.52],\n",
              "       [792, 'France', 'Female', ..., 1, 0, 38190.78]], dtype=object)"
            ]
          },
          "metadata": {},
          "execution_count": 4
        }
      ],
      "source": [
        "X = dataset.iloc[:, 3:13].values\n",
        "X"
      ]
    },
    {
      "cell_type": "code",
      "execution_count": 5,
      "metadata": {
        "id": "gw5Hs_9Iso73",
        "outputId": "6788d23b-ed10-4138-d849-6df712b2a194",
        "colab": {
          "base_uri": "https://localhost:8080/"
        }
      },
      "outputs": [
        {
          "output_type": "execute_result",
          "data": {
            "text/plain": [
              "array([1, 0, 1, ..., 1, 1, 0])"
            ]
          },
          "metadata": {},
          "execution_count": 5
        }
      ],
      "source": [
        "y = dataset.iloc[:, 13].values\n",
        "y"
      ]
    },
    {
      "cell_type": "code",
      "execution_count": 6,
      "metadata": {
        "id": "dXlPRxhGso73"
      },
      "outputs": [],
      "source": [
        "from sklearn.preprocessing import LabelEncoder\n",
        "labelencoder_X1 = LabelEncoder()\n",
        "X[:,1] = labelencoder_X1.fit_transform(X[:,1])"
      ]
    },
    {
      "cell_type": "code",
      "execution_count": 7,
      "metadata": {
        "id": "Tqu4A6M_so74",
        "outputId": "9953c876-11dc-4637-9913-2ad559ea5284",
        "colab": {
          "base_uri": "https://localhost:8080/"
        }
      },
      "outputs": [
        {
          "output_type": "execute_result",
          "data": {
            "text/plain": [
              "array([[619, 0, 'Female', ..., 1, 1, 101348.88],\n",
              "       [608, 2, 'Female', ..., 0, 1, 112542.58],\n",
              "       [502, 0, 'Female', ..., 1, 0, 113931.57],\n",
              "       ...,\n",
              "       [709, 0, 'Female', ..., 0, 1, 42085.58],\n",
              "       [772, 1, 'Male', ..., 1, 0, 92888.52],\n",
              "       [792, 0, 'Female', ..., 1, 0, 38190.78]], dtype=object)"
            ]
          },
          "metadata": {},
          "execution_count": 7
        }
      ],
      "source": [
        "X"
      ]
    },
    {
      "cell_type": "code",
      "execution_count": 8,
      "metadata": {
        "id": "Tv89Zc1jso74"
      },
      "outputs": [],
      "source": [
        "labelencoder_X2 = LabelEncoder()\n",
        "X[:,2] = labelencoder_X2.fit_transform(X[:,2])"
      ]
    },
    {
      "cell_type": "code",
      "execution_count": 9,
      "metadata": {
        "id": "qvyW_I-7so75",
        "outputId": "ced63352-d31a-4e96-c4b6-41e107593ea4",
        "colab": {
          "base_uri": "https://localhost:8080/"
        }
      },
      "outputs": [
        {
          "output_type": "execute_result",
          "data": {
            "text/plain": [
              "array([[619, 0, 0, ..., 1, 1, 101348.88],\n",
              "       [608, 2, 0, ..., 0, 1, 112542.58],\n",
              "       [502, 0, 0, ..., 1, 0, 113931.57],\n",
              "       ...,\n",
              "       [709, 0, 0, ..., 0, 1, 42085.58],\n",
              "       [772, 1, 1, ..., 1, 0, 92888.52],\n",
              "       [792, 0, 0, ..., 1, 0, 38190.78]], dtype=object)"
            ]
          },
          "metadata": {},
          "execution_count": 9
        }
      ],
      "source": [
        "X"
      ]
    },
    {
      "cell_type": "code",
      "execution_count": 10,
      "metadata": {
        "id": "95WTRGmfso75",
        "outputId": "bbde0aff-490f-41e5-c45b-ec2d4111e2a8",
        "colab": {
          "base_uri": "https://localhost:8080/"
        }
      },
      "outputs": [
        {
          "output_type": "execute_result",
          "data": {
            "text/plain": [
              "array([[1.0, 0.0, 0.0, ..., 1, 1, 101348.88],\n",
              "       [0.0, 0.0, 1.0, ..., 0, 1, 112542.58],\n",
              "       [1.0, 0.0, 0.0, ..., 1, 0, 113931.57],\n",
              "       ...,\n",
              "       [1.0, 0.0, 0.0, ..., 0, 1, 42085.58],\n",
              "       [0.0, 1.0, 0.0, ..., 1, 0, 92888.52],\n",
              "       [1.0, 0.0, 0.0, ..., 1, 0, 38190.78]], dtype=object)"
            ]
          },
          "metadata": {},
          "execution_count": 10
        }
      ],
      "source": [
        "from sklearn.preprocessing import OneHotEncoder\n",
        "from sklearn.compose import ColumnTransformer\n",
        "\n",
        "transformer = ColumnTransformer(\n",
        "    transformers=[\n",
        "        (\"Churn_Modelling\",        # Un nombre de la transformación\n",
        "         OneHotEncoder(categories='auto'), # La clase a la que transformar\n",
        "         [1]            # Las columnas a transformar.\n",
        "         )\n",
        "    ], remainder='passthrough'\n",
        ")\n",
        "\n",
        "X = transformer.fit_transform(X)\n",
        "X"
      ]
    },
    {
      "cell_type": "code",
      "execution_count": 11,
      "metadata": {
        "id": "8PCaSpp2so76"
      },
      "outputs": [],
      "source": [
        "X = X[:, 1:]"
      ]
    },
    {
      "cell_type": "code",
      "execution_count": 12,
      "metadata": {
        "id": "bR7UPx8dso76",
        "outputId": "5e32a8c0-a03b-4cc1-d279-657c85387c81",
        "colab": {
          "base_uri": "https://localhost:8080/"
        }
      },
      "outputs": [
        {
          "output_type": "execute_result",
          "data": {
            "text/plain": [
              "numpy.ndarray"
            ]
          },
          "metadata": {},
          "execution_count": 12
        }
      ],
      "source": [
        "type(X)"
      ]
    },
    {
      "cell_type": "code",
      "execution_count": 13,
      "metadata": {
        "id": "NXOY885cso76"
      },
      "outputs": [],
      "source": [
        "from sklearn.model_selection import train_test_split\n",
        "X_train, X_test, Y_train, Y_test = train_test_split(X,y, test_size = 0.2, random_state = 0)\n",
        "\n",
        "from sklearn.preprocessing import StandardScaler\n",
        "sX = StandardScaler()\n",
        "X_train = sX.fit_transform(X_train)\n",
        "X_test = sX.transform(X_test)"
      ]
    },
    {
      "cell_type": "code",
      "execution_count": 15,
      "metadata": {
        "id": "anW_Yu8Cso76",
        "outputId": "2ac2a3db-037b-4062-894f-d0e881fb3819",
        "colab": {
          "base_uri": "https://localhost:8080/"
        }
      },
      "outputs": [
        {
          "output_type": "stream",
          "name": "stdout",
          "text": [
            "Epoch 1/100\n",
            "800/800 [==============================] - 2s 1ms/step - loss: 0.5073 - accuracy: 0.7956\n",
            "Epoch 2/100\n",
            "800/800 [==============================] - 1s 1ms/step - loss: 0.4375 - accuracy: 0.7960\n",
            "Epoch 3/100\n",
            "800/800 [==============================] - 1s 1ms/step - loss: 0.4350 - accuracy: 0.7960\n",
            "Epoch 4/100\n",
            "800/800 [==============================] - 1s 1ms/step - loss: 0.4316 - accuracy: 0.8011\n",
            "Epoch 5/100\n",
            "800/800 [==============================] - 1s 1ms/step - loss: 0.4284 - accuracy: 0.8158\n",
            "Epoch 6/100\n",
            "800/800 [==============================] - 1s 1ms/step - loss: 0.4273 - accuracy: 0.8227\n",
            "Epoch 7/100\n",
            "800/800 [==============================] - 1s 1ms/step - loss: 0.4265 - accuracy: 0.8216\n",
            "Epoch 8/100\n",
            "800/800 [==============================] - 1s 1ms/step - loss: 0.4215 - accuracy: 0.8264\n",
            "Epoch 9/100\n",
            "800/800 [==============================] - 1s 1ms/step - loss: 0.4230 - accuracy: 0.8239\n",
            "Epoch 10/100\n",
            "800/800 [==============================] - 1s 1ms/step - loss: 0.4230 - accuracy: 0.8221\n",
            "Epoch 11/100\n",
            "800/800 [==============================] - 1s 1ms/step - loss: 0.4176 - accuracy: 0.8246\n",
            "Epoch 12/100\n",
            "800/800 [==============================] - 1s 1ms/step - loss: 0.4169 - accuracy: 0.8253\n",
            "Epoch 13/100\n",
            "800/800 [==============================] - 1s 1ms/step - loss: 0.4174 - accuracy: 0.8280\n",
            "Epoch 14/100\n",
            "800/800 [==============================] - 1s 1ms/step - loss: 0.4187 - accuracy: 0.8270\n",
            "Epoch 15/100\n",
            "800/800 [==============================] - 1s 1ms/step - loss: 0.4191 - accuracy: 0.8257\n",
            "Epoch 16/100\n",
            "800/800 [==============================] - 1s 1ms/step - loss: 0.4168 - accuracy: 0.8259\n",
            "Epoch 17/100\n",
            "800/800 [==============================] - 1s 1ms/step - loss: 0.4166 - accuracy: 0.8276\n",
            "Epoch 18/100\n",
            "800/800 [==============================] - 1s 1ms/step - loss: 0.4155 - accuracy: 0.8251\n",
            "Epoch 19/100\n",
            "800/800 [==============================] - 1s 1ms/step - loss: 0.4172 - accuracy: 0.8271\n",
            "Epoch 20/100\n",
            "800/800 [==============================] - 1s 1ms/step - loss: 0.4141 - accuracy: 0.8255\n",
            "Epoch 21/100\n",
            "800/800 [==============================] - 1s 1ms/step - loss: 0.4153 - accuracy: 0.8263\n",
            "Epoch 22/100\n",
            "800/800 [==============================] - 1s 1ms/step - loss: 0.4160 - accuracy: 0.8254\n",
            "Epoch 23/100\n",
            "800/800 [==============================] - 1s 1ms/step - loss: 0.4187 - accuracy: 0.8235\n",
            "Epoch 24/100\n",
            "800/800 [==============================] - 1s 1ms/step - loss: 0.4154 - accuracy: 0.8286\n",
            "Epoch 25/100\n",
            "800/800 [==============================] - 1s 1ms/step - loss: 0.4146 - accuracy: 0.8276\n",
            "Epoch 26/100\n",
            "800/800 [==============================] - 1s 1ms/step - loss: 0.4159 - accuracy: 0.8279\n",
            "Epoch 27/100\n",
            "800/800 [==============================] - 1s 1ms/step - loss: 0.4174 - accuracy: 0.8265\n",
            "Epoch 28/100\n",
            "800/800 [==============================] - 1s 1ms/step - loss: 0.4151 - accuracy: 0.8263\n",
            "Epoch 29/100\n",
            "800/800 [==============================] - 1s 1ms/step - loss: 0.4150 - accuracy: 0.8300\n",
            "Epoch 30/100\n",
            "800/800 [==============================] - 1s 1ms/step - loss: 0.4119 - accuracy: 0.8288\n",
            "Epoch 31/100\n",
            "800/800 [==============================] - 1s 1ms/step - loss: 0.4151 - accuracy: 0.8270\n",
            "Epoch 32/100\n",
            "800/800 [==============================] - 1s 1ms/step - loss: 0.4139 - accuracy: 0.8282\n",
            "Epoch 33/100\n",
            "800/800 [==============================] - 1s 1ms/step - loss: 0.4146 - accuracy: 0.8292\n",
            "Epoch 34/100\n",
            "800/800 [==============================] - 1s 1ms/step - loss: 0.4122 - accuracy: 0.8303\n",
            "Epoch 35/100\n",
            "800/800 [==============================] - 1s 1ms/step - loss: 0.4151 - accuracy: 0.8289\n",
            "Epoch 36/100\n",
            "800/800 [==============================] - 1s 1ms/step - loss: 0.4140 - accuracy: 0.8270\n",
            "Epoch 37/100\n",
            "800/800 [==============================] - 1s 1ms/step - loss: 0.4150 - accuracy: 0.8260\n",
            "Epoch 38/100\n",
            "800/800 [==============================] - 1s 1ms/step - loss: 0.4147 - accuracy: 0.8285\n",
            "Epoch 39/100\n",
            "800/800 [==============================] - 1s 1ms/step - loss: 0.4110 - accuracy: 0.8300\n",
            "Epoch 40/100\n",
            "800/800 [==============================] - 1s 1ms/step - loss: 0.4129 - accuracy: 0.8289\n",
            "Epoch 41/100\n",
            "800/800 [==============================] - 1s 1ms/step - loss: 0.4133 - accuracy: 0.8274\n",
            "Epoch 42/100\n",
            "800/800 [==============================] - 1s 1ms/step - loss: 0.4139 - accuracy: 0.8305\n",
            "Epoch 43/100\n",
            "800/800 [==============================] - 1s 1ms/step - loss: 0.4116 - accuracy: 0.8307\n",
            "Epoch 44/100\n",
            "800/800 [==============================] - 1s 1ms/step - loss: 0.4141 - accuracy: 0.8284\n",
            "Epoch 45/100\n",
            "800/800 [==============================] - 1s 1ms/step - loss: 0.4112 - accuracy: 0.8299\n",
            "Epoch 46/100\n",
            "800/800 [==============================] - 1s 1ms/step - loss: 0.4115 - accuracy: 0.8300\n",
            "Epoch 47/100\n",
            "800/800 [==============================] - 1s 1ms/step - loss: 0.4105 - accuracy: 0.8307\n",
            "Epoch 48/100\n",
            "800/800 [==============================] - 1s 1ms/step - loss: 0.4133 - accuracy: 0.8286\n",
            "Epoch 49/100\n",
            "800/800 [==============================] - 1s 1ms/step - loss: 0.4137 - accuracy: 0.8280\n",
            "Epoch 50/100\n",
            "800/800 [==============================] - 1s 1ms/step - loss: 0.4153 - accuracy: 0.8250\n",
            "Epoch 51/100\n",
            "800/800 [==============================] - 1s 1ms/step - loss: 0.4146 - accuracy: 0.8286\n",
            "Epoch 52/100\n",
            "800/800 [==============================] - 1s 1ms/step - loss: 0.4112 - accuracy: 0.8315\n",
            "Epoch 53/100\n",
            "800/800 [==============================] - 1s 1ms/step - loss: 0.4105 - accuracy: 0.8334\n",
            "Epoch 54/100\n",
            "800/800 [==============================] - 1s 1ms/step - loss: 0.4125 - accuracy: 0.8276\n",
            "Epoch 55/100\n",
            "800/800 [==============================] - 1s 1ms/step - loss: 0.4120 - accuracy: 0.8326\n",
            "Epoch 56/100\n",
            "800/800 [==============================] - 1s 1ms/step - loss: 0.4139 - accuracy: 0.8290\n",
            "Epoch 57/100\n",
            "800/800 [==============================] - 1s 1ms/step - loss: 0.4102 - accuracy: 0.8301\n",
            "Epoch 58/100\n",
            "800/800 [==============================] - 1s 1ms/step - loss: 0.4117 - accuracy: 0.8298\n",
            "Epoch 59/100\n",
            "800/800 [==============================] - 1s 1ms/step - loss: 0.4143 - accuracy: 0.8288\n",
            "Epoch 60/100\n",
            "800/800 [==============================] - 1s 1ms/step - loss: 0.4082 - accuracy: 0.8325\n",
            "Epoch 61/100\n",
            "800/800 [==============================] - 1s 1ms/step - loss: 0.4134 - accuracy: 0.8291\n",
            "Epoch 62/100\n",
            "800/800 [==============================] - 1s 1ms/step - loss: 0.4109 - accuracy: 0.8299\n",
            "Epoch 63/100\n",
            "800/800 [==============================] - 1s 1ms/step - loss: 0.4140 - accuracy: 0.8290\n",
            "Epoch 64/100\n",
            "800/800 [==============================] - 1s 1ms/step - loss: 0.4124 - accuracy: 0.8292\n",
            "Epoch 65/100\n",
            "800/800 [==============================] - 1s 1ms/step - loss: 0.4137 - accuracy: 0.8289\n",
            "Epoch 66/100\n",
            "800/800 [==============================] - 1s 1ms/step - loss: 0.4155 - accuracy: 0.8263\n",
            "Epoch 67/100\n",
            "800/800 [==============================] - 2s 2ms/step - loss: 0.4120 - accuracy: 0.8284\n",
            "Epoch 68/100\n",
            "800/800 [==============================] - 1s 1ms/step - loss: 0.4139 - accuracy: 0.8267\n",
            "Epoch 69/100\n",
            "800/800 [==============================] - 1s 1ms/step - loss: 0.4134 - accuracy: 0.8300\n",
            "Epoch 70/100\n",
            "800/800 [==============================] - 1s 1ms/step - loss: 0.4113 - accuracy: 0.8306\n",
            "Epoch 71/100\n",
            "800/800 [==============================] - 1s 1ms/step - loss: 0.4132 - accuracy: 0.8311\n",
            "Epoch 72/100\n",
            "800/800 [==============================] - 1s 1ms/step - loss: 0.4126 - accuracy: 0.8299\n",
            "Epoch 73/100\n",
            "800/800 [==============================] - 1s 1ms/step - loss: 0.4111 - accuracy: 0.8332\n",
            "Epoch 74/100\n",
            "800/800 [==============================] - 1s 1ms/step - loss: 0.4121 - accuracy: 0.8290\n",
            "Epoch 75/100\n",
            "800/800 [==============================] - 1s 1ms/step - loss: 0.4119 - accuracy: 0.8294\n",
            "Epoch 76/100\n",
            "800/800 [==============================] - 1s 2ms/step - loss: 0.4151 - accuracy: 0.8298\n",
            "Epoch 77/100\n",
            "800/800 [==============================] - 1s 1ms/step - loss: 0.4111 - accuracy: 0.8316\n",
            "Epoch 78/100\n",
            "800/800 [==============================] - 1s 1ms/step - loss: 0.4109 - accuracy: 0.8305\n",
            "Epoch 79/100\n",
            "800/800 [==============================] - 1s 1ms/step - loss: 0.4123 - accuracy: 0.8291\n",
            "Epoch 80/100\n",
            "800/800 [==============================] - 1s 1ms/step - loss: 0.4114 - accuracy: 0.8307\n",
            "Epoch 81/100\n",
            "800/800 [==============================] - 1s 1ms/step - loss: 0.4115 - accuracy: 0.8305\n",
            "Epoch 82/100\n",
            "800/800 [==============================] - 1s 1ms/step - loss: 0.4101 - accuracy: 0.8340\n",
            "Epoch 83/100\n",
            "800/800 [==============================] - 1s 1ms/step - loss: 0.4107 - accuracy: 0.8325\n",
            "Epoch 84/100\n",
            "800/800 [==============================] - 1s 1ms/step - loss: 0.4104 - accuracy: 0.8315\n",
            "Epoch 85/100\n",
            "800/800 [==============================] - 1s 1ms/step - loss: 0.4110 - accuracy: 0.8309\n",
            "Epoch 86/100\n",
            "800/800 [==============================] - 1s 1ms/step - loss: 0.4148 - accuracy: 0.8282\n",
            "Epoch 87/100\n",
            "800/800 [==============================] - 1s 1ms/step - loss: 0.4117 - accuracy: 0.8304\n",
            "Epoch 88/100\n",
            "800/800 [==============================] - 1s 1ms/step - loss: 0.4120 - accuracy: 0.8305\n",
            "Epoch 89/100\n",
            "800/800 [==============================] - 1s 1ms/step - loss: 0.4130 - accuracy: 0.8296\n",
            "Epoch 90/100\n",
            "800/800 [==============================] - 1s 1ms/step - loss: 0.4116 - accuracy: 0.8311\n",
            "Epoch 91/100\n",
            "800/800 [==============================] - 1s 1ms/step - loss: 0.4115 - accuracy: 0.8317\n",
            "Epoch 92/100\n",
            "800/800 [==============================] - 1s 1ms/step - loss: 0.4139 - accuracy: 0.8304\n",
            "Epoch 93/100\n",
            "800/800 [==============================] - 1s 1ms/step - loss: 0.4098 - accuracy: 0.8338\n",
            "Epoch 94/100\n",
            "800/800 [==============================] - 1s 1ms/step - loss: 0.4130 - accuracy: 0.8301\n",
            "Epoch 95/100\n",
            "800/800 [==============================] - 1s 1ms/step - loss: 0.4123 - accuracy: 0.8296\n",
            "Epoch 96/100\n",
            "800/800 [==============================] - 1s 1ms/step - loss: 0.4128 - accuracy: 0.8296\n",
            "Epoch 97/100\n",
            "800/800 [==============================] - 1s 1ms/step - loss: 0.4116 - accuracy: 0.8306\n",
            "Epoch 98/100\n",
            "800/800 [==============================] - 1s 1ms/step - loss: 0.4095 - accuracy: 0.8315\n",
            "Epoch 99/100\n",
            "800/800 [==============================] - 1s 1ms/step - loss: 0.4082 - accuracy: 0.8305\n",
            "Epoch 100/100\n",
            "800/800 [==============================] - 1s 1ms/step - loss: 0.4100 - accuracy: 0.8339\n"
          ]
        },
        {
          "output_type": "execute_result",
          "data": {
            "text/plain": [
              "<keras.callbacks.History at 0x7f63936fb370>"
            ]
          },
          "metadata": {},
          "execution_count": 15
        }
      ],
      "source": [
        "#construimos nuestra red neuronal\n",
        "import keras\n",
        "from keras.models import Sequential\n",
        "from keras.layers import Dense\n",
        "from keras.layers import Dropout\n",
        "\n",
        "clf = Sequential()\n",
        "\n",
        "#primera capa\n",
        "clf.add(Dense(units = 6,kernel_initializer = \"uniform\", activation = \"relu\", input_dim = 11))\n",
        "clf.add(Dropout(rate=0.1))\n",
        "\n",
        "#segunda capa\n",
        "clf.add(Dense(units = 6,kernel_initializer = \"uniform\", activation = \"relu\"))\n",
        "clf.add(Dropout(rate=0.1))\n",
        "\n",
        "#segunda capa\n",
        "clf.add(Dense(units = 1,kernel_initializer = \"uniform\", activation = \"sigmoid\"))\n",
        "\n",
        "#compilador de la RNA\n",
        "clf.compile(optimizer = \"adam\", loss = \"binary_crossentropy\", metrics = [\"accuracy\"])\n",
        "\n",
        "clf.fit(X_train, Y_train, batch_size = 10, epochs = 100)\n",
        "\n"
      ]
    },
    {
      "cell_type": "code",
      "execution_count": 16,
      "metadata": {
        "id": "hrTjxdgEso77"
      },
      "outputs": [],
      "source": [
        "%matplotlib inline\n",
        "import itertools\n",
        "import matplotlib.pyplot as plt\n",
        "\n",
        "def plot_confusion_matrix(cm, classes,\n",
        "                          normalize=False,\n",
        "                          title='Confusion matrix',\n",
        "                          cmap=plt.cm.Blues):\n",
        "    \"\"\"\n",
        "    This function prints and plots the confusion matrix.\n",
        "    Normalization can be applied by setting `normalize=True`.\n",
        "    \"\"\"\n",
        "    plt.imshow(cm, interpolation='nearest', cmap=cmap)\n",
        "    plt.title(title)\n",
        "    plt.colorbar()\n",
        "    tick_marks = np.arange(len(classes))\n",
        "    plt.xticks(tick_marks, classes, rotation=45)\n",
        "    plt.yticks(tick_marks, classes)\n",
        "\n",
        "    if normalize:\n",
        "        cm = cm.astype('float') / cm.sum(axis=1)[:, np.newaxis]\n",
        "        print(\"Normalized confusion matrix\")\n",
        "    else:\n",
        "        print('Confusion matrix, without normalization')\n",
        "\n",
        "    print(cm)\n",
        "\n",
        "    thresh = cm.max() / 2.\n",
        "    for i, j in itertools.product(range(cm.shape[0]), range(cm.shape[1])):\n",
        "        plt.text(j, i, cm[i, j],\n",
        "                 horizontalalignment=\"center\",\n",
        "                 color=\"white\" if cm[i, j] > thresh else \"black\")\n",
        "\n",
        "    plt.tight_layout()\n",
        "    plt.ylabel('True label')\n",
        "    plt.xlabel('Predicted label')"
      ]
    },
    {
      "cell_type": "code",
      "execution_count": 17,
      "metadata": {
        "id": "6LoVo_Lcso77",
        "outputId": "509124e8-d88f-49a2-a26e-60dc42e926f2",
        "colab": {
          "base_uri": "https://localhost:8080/"
        }
      },
      "outputs": [
        {
          "output_type": "stream",
          "name": "stdout",
          "text": [
            "63/63 [==============================] - 0s 800us/step\n"
          ]
        },
        {
          "output_type": "execute_result",
          "data": {
            "text/plain": [
              "array([[0.24268529],\n",
              "       [0.28122365],\n",
              "       [0.17381293],\n",
              "       ...,\n",
              "       [0.16923127],\n",
              "       [0.13626496],\n",
              "       [0.14206246]], dtype=float32)"
            ]
          },
          "metadata": {},
          "execution_count": 17
        }
      ],
      "source": [
        "#predecir\n",
        "y_pred = clf.predict(X_test)\n",
        "y_pred"
      ]
    },
    {
      "cell_type": "code",
      "execution_count": 18,
      "metadata": {
        "id": "iRwslNhjso78",
        "outputId": "2e36726f-fe9b-4940-f7db-8e01e97a8828",
        "colab": {
          "base_uri": "https://localhost:8080/"
        }
      },
      "outputs": [
        {
          "output_type": "execute_result",
          "data": {
            "text/plain": [
              "array([[False],\n",
              "       [False],\n",
              "       [False],\n",
              "       ...,\n",
              "       [False],\n",
              "       [False],\n",
              "       [False]])"
            ]
          },
          "metadata": {},
          "execution_count": 18
        }
      ],
      "source": [
        "y_pred = (y_pred>0.5)\n",
        "y_pred"
      ]
    },
    {
      "cell_type": "code",
      "execution_count": 19,
      "metadata": {
        "id": "v0KlMqkyso78",
        "outputId": "25171950-ba3b-4054-df12-50e79cdf01f0",
        "colab": {
          "base_uri": "https://localhost:8080/"
        }
      },
      "outputs": [
        {
          "output_type": "stream",
          "name": "stdout",
          "text": [
            "0.844\n"
          ]
        }
      ],
      "source": [
        "# Elaborar una matriz de confusión\n",
        "from sklearn.metrics import confusion_matrix\n",
        "cm = confusion_matrix(Y_test, y_pred)\n",
        "print((cm[0][0]+cm[1][1])/cm.sum())"
      ]
    },
    {
      "cell_type": "code",
      "execution_count": 20,
      "metadata": {
        "id": "z6VcfXM-so78",
        "outputId": "ea22c227-5d4f-4d62-8945-3babeac528b9",
        "colab": {
          "base_uri": "https://localhost:8080/",
          "height": 363
        }
      },
      "outputs": [
        {
          "output_type": "stream",
          "name": "stdout",
          "text": [
            "Confusion matrix, without normalization\n",
            "[[1555   40]\n",
            " [ 272  133]]\n"
          ]
        },
        {
          "output_type": "display_data",
          "data": {
            "text/plain": [
              "<Figure size 432x288 with 2 Axes>"
            ],
            "image/png": "[encoded data removed]"
          },
          "metadata": {
            "needs_background": "light"
          }
        }
      ],
      "source": [
        "plot_confusion_matrix(cm, ['Si deja el banco','No deja el banco'],title='Matriz de confusión')"
      ]
    }
  ],
  "metadata": {
    "kernelspec": {
      "display_name": "Python 3",
      "language": "python",
      "name": "python3"
    },
    "language_info": {
      "codemirror_mode": {
        "name": "ipython",
        "version": 3
      },
      "file_extension": ".py",
      "mimetype": "text/x-python",
      "name": "python",
      "nbconvert_exporter": "python",
      "pygments_lexer": "ipython3",
      "version": "3.7.9"
    },
    "colab": {
      "provenance": [],
      "include_colab_link": true
    }
  },
  "nbformat": 4,
  "nbformat_minor": 0
}